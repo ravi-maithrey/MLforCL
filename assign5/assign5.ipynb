{
 "cells": [
  {
   "cell_type": "code",
   "execution_count": 93,
   "metadata": {},
   "outputs": [],
   "source": [
    "import numpy as np\n",
    "import pandas as pd\n",
    "from sklearn.model_selection import train_test_split\n",
    "from sklearn.feature_extraction.text import CountVectorizer"
   ]
  },
  {
   "cell_type": "code",
   "execution_count": 100,
   "metadata": {},
   "outputs": [],
   "source": [
    "def create_dataset(file_path):\n",
    "    file = open(file_path) # opening the dataset\n",
    "    # these store the different data items in each line\n",
    "    y = []\n",
    "    X = []\n",
    "    while True:\n",
    "        tweet = file.readline().rstrip() # removing excess whitespace, endline chars at the end of each line\n",
    "        split = tweet.split(' ') # splitting into list of words at space\n",
    "        y.append(split[-1]) # last work of each sentence is the target\n",
    "        words = split[:-1] #\n",
    "        if words:\n",
    "            sentence = ' '.join(words[2:])\n",
    "        X.append(sentence)\n",
    "        \n",
    "        if not tweet:\n",
    "            break\n",
    "    return X,y"
   ]
  },
  {
   "cell_type": "code",
   "execution_count": 101,
   "metadata": {},
   "outputs": [],
   "source": [
    "X_list,y_list = create_dataset(\"waseemDataSet.txt\")"
   ]
  },
  {
   "cell_type": "code",
   "execution_count": 102,
   "metadata": {},
   "outputs": [],
   "source": [
    "def convert_to_dataframe(X):\n",
    "    df = pd.DataFrame(X, columns=[\"tweet_text\"])\n",
    "    return df"
   ]
  },
  {
   "cell_type": "code",
   "execution_count": 103,
   "metadata": {},
   "outputs": [],
   "source": [
    "X = convert_to_dataframe(X_list)"
   ]
  },
  {
   "cell_type": "code",
   "execution_count": 104,
   "metadata": {},
   "outputs": [],
   "source": [
    "tweet_text = X[\"tweet_text\"]"
   ]
  },
  {
   "cell_type": "code",
   "execution_count": 138,
   "metadata": {},
   "outputs": [],
   "source": [
    "X_train, X_test, y_train, y_test = train_test_split(tweet_text, y_list, test_size=0.33, random_state=42)"
   ]
  },
  {
   "cell_type": "code",
   "execution_count": 139,
   "metadata": {},
   "outputs": [],
   "source": [
    "vectorizer = CountVectorizer(ngram_range=(1, 3), token_pattern = r\"(?u)\\b\\w+\\b\", analyzer='char')"
   ]
  },
  {
   "cell_type": "code",
   "execution_count": 140,
   "metadata": {},
   "outputs": [],
   "source": [
    "from sklearn.preprocessing import StandardScaler\n",
    "scaler = StandardScaler(with_mean=False)"
   ]
  },
  {
   "cell_type": "code",
   "execution_count": 141,
   "metadata": {},
   "outputs": [],
   "source": [
    "X_train_counts = vectorizer.fit_transform(X_train)"
   ]
  },
  {
   "cell_type": "code",
   "execution_count": 142,
   "metadata": {},
   "outputs": [],
   "source": [
    "X_train_scaled = scaler.fit_transform(X_train_counts)"
   ]
  },
  {
   "cell_type": "code",
   "execution_count": 143,
   "metadata": {},
   "outputs": [],
   "source": [
    "from sklearn.naive_bayes import MultinomialNB\n",
    "clf = MultinomialNB().fit(X_train_scaled, y_train)\n"
   ]
  },
  {
   "cell_type": "code",
   "execution_count": 144,
   "metadata": {},
   "outputs": [],
   "source": [
    "from sklearn.ensemble import RandomForestClassifier\n",
    "clf2 = RandomForestClassifier().fit(X_train_scaled, y_train)"
   ]
  },
  {
   "cell_type": "code",
   "execution_count": 145,
   "metadata": {},
   "outputs": [],
   "source": [
    "X_test_counts = vectorizer.transform(X_test)\n",
    "X_test_scaled = scaler.transform(X_test_counts)"
   ]
  },
  {
   "cell_type": "code",
   "execution_count": 186,
   "metadata": {},
   "outputs": [],
   "source": [
    "y_pred = clf.predict(X_test_counts)"
   ]
  },
  {
   "cell_type": "code",
   "execution_count": 151,
   "metadata": {},
   "outputs": [],
   "source": [
    "y_pred_2 = clf2.predict(X_test_scaled)"
   ]
  },
  {
   "cell_type": "code",
   "execution_count": 187,
   "metadata": {},
   "outputs": [
    {
     "name": "stdout",
     "output_type": "stream",
     "text": [
      "Naive Bayes 0.6860779020439646\n",
      "Random Forest 0.8177786347859622\n",
      "Logistic Regression 0.8069803316621674\n"
     ]
    }
   ],
   "source": [
    "from sklearn.metrics import accuracy_score\n",
    "print(\"Naive Bayes\", accuracy_score(y_test, y_pred))\n",
    "print(\"Random Forest\", accuracy_score(y_test, y_pred_2))\n",
    "print(\"Logistic Regression\", accuracy_score(y_test, y_pred_3))"
   ]
  },
  {
   "cell_type": "code",
   "execution_count": 169,
   "metadata": {},
   "outputs": [],
   "source": [
    "from sklearn.linear_model import LogisticRegression\n",
    "clf3 = LogisticRegression(solver='liblinear').fit(X_train_scaled, y_train)"
   ]
  },
  {
   "cell_type": "code",
   "execution_count": 184,
   "metadata": {},
   "outputs": [
    {
     "name": "stdout",
     "output_type": "stream",
     "text": [
      "Logistic Regression 0.8069803316621674\n"
     ]
    }
   ],
   "source": [
    "y_pred_3 = clf3.predict(X_test_scaled)\n",
    "print(\"Logistic Regression\", accuracy_score(y_test, y_pred_3))"
   ]
  },
  {
   "attachments": {},
   "cell_type": "markdown",
   "metadata": {},
   "source": [
    "#### Scaling doesn't matter, naives bayes is a bad idea\n",
    "#### For logistic regression increasing iterations isn't really doing a lot"
   ]
  },
  {
   "attachments": {},
   "cell_type": "markdown",
   "metadata": {},
   "source": [
    "### Hyper param search below"
   ]
  },
  {
   "cell_type": "code",
   "execution_count": 171,
   "metadata": {},
   "outputs": [
    {
     "name": "stdout",
     "output_type": "stream",
     "text": [
      "{'bootstrap': True, 'ccp_alpha': 0.0, 'class_weight': None, 'criterion': 'gini', 'max_depth': None, 'max_features': 'sqrt', 'max_leaf_nodes': None, 'max_samples': None, 'min_impurity_decrease': 0.0, 'min_samples_leaf': 1, 'min_samples_split': 2, 'min_weight_fraction_leaf': 0.0, 'n_estimators': 100, 'n_jobs': None, 'oob_score': False, 'random_state': None, 'verbose': 0, 'warm_start': False}\n"
     ]
    }
   ],
   "source": [
    "# finding the hyper params\n",
    "print(clf2.get_params())"
   ]
  },
  {
   "cell_type": "code",
   "execution_count": 172,
   "metadata": {},
   "outputs": [
    {
     "name": "stdout",
     "output_type": "stream",
     "text": [
      "0.8156575395295025\n"
     ]
    }
   ],
   "source": [
    "rf = RandomForestClassifier(criterion='entropy').fit(X_train_scaled, y_train)\n",
    "y_pred_rf = rf.predict(X_test_scaled)\n",
    "print(accuracy_score(y_pred_rf, y_test))"
   ]
  },
  {
   "cell_type": "code",
   "execution_count": 173,
   "metadata": {},
   "outputs": [],
   "source": [
    "rf = RandomForestClassifier(n_jobs=3)"
   ]
  },
  {
   "cell_type": "code",
   "execution_count": 174,
   "metadata": {},
   "outputs": [],
   "source": [
    "# ranges for hyperparams\n",
    "n_estimators = [int(x) for x in np.linspace(start = 200, stop = 2000, num = 10)]\n",
    "min_samples_split = [2, 3, 4, 5]\n",
    "criterion = ['gini', 'entropy', 'log_loss']\n",
    "bootstrap = [True, False]\n",
    "\n",
    "random_grid = {'n_estimators': n_estimators,\n",
    "               'min_samples_split': min_samples_split,\n",
    "               'bootstrap': bootstrap,\n",
    "               'criterion': criterion}"
   ]
  },
  {
   "cell_type": "code",
   "execution_count": 175,
   "metadata": {},
   "outputs": [
    {
     "name": "stdout",
     "output_type": "stream",
     "text": [
      "Fitting 3 folds for each of 100 candidates, totalling 300 fits\n"
     ]
    },
    {
     "name": "stderr",
     "output_type": "stream",
     "text": [
      "/Users/ravimaith/miniforge3/lib/python3.10/site-packages/sklearn/model_selection/_split.py:684: UserWarning: The least populated class in y has only 1 members, which is less than n_splits=3.\n",
      "  warnings.warn(\n",
      "90170.58s - pydevd: Sending message related to process being replaced timed-out after 5 seconds\n",
      "90170.61s - pydevd: Sending message related to process being replaced timed-out after 5 seconds\n",
      "90170.63s - pydevd: Sending message related to process being replaced timed-out after 5 seconds\n",
      "90170.63s - pydevd: Sending message related to process being replaced timed-out after 5 seconds\n",
      "90170.63s - pydevd: Sending message related to process being replaced timed-out after 5 seconds\n",
      "90170.66s - pydevd: Sending message related to process being replaced timed-out after 5 seconds\n",
      "90170.66s - pydevd: Sending message related to process being replaced timed-out after 5 seconds\n",
      "90170.67s - pydevd: Sending message related to process being replaced timed-out after 5 seconds\n",
      "90170.67s - pydevd: Sending message related to process being replaced timed-out after 5 seconds\n"
     ]
    },
    {
     "name": "stdout",
     "output_type": "stream",
     "text": [
      "[CV] END bootstrap=True, criterion=log_loss, min_samples_split=3, n_estimators=800; total time=  51.4s\n",
      "[CV] END bootstrap=True, criterion=log_loss, min_samples_split=3, n_estimators=800; total time=  51.6s\n",
      "[CV] END bootstrap=True, criterion=gini, min_samples_split=4, n_estimators=1000; total time= 1.2min\n",
      "[CV] END bootstrap=True, criterion=gini, min_samples_split=4, n_estimators=1000; total time= 1.2min\n",
      "[CV] END bootstrap=True, criterion=gini, min_samples_split=4, n_estimators=1000; total time= 1.2min\n",
      "[CV] END bootstrap=True, criterion=log_loss, min_samples_split=3, n_estimators=800; total time=  53.8s\n",
      "[CV] END bootstrap=True, criterion=gini, min_samples_split=2, n_estimators=1400; total time= 2.0min\n",
      "[CV] END bootstrap=True, criterion=gini, min_samples_split=2, n_estimators=1400; total time= 2.1min\n",
      "[CV] END bootstrap=True, criterion=gini, min_samples_split=2, n_estimators=1400; total time= 2.1min\n",
      "[CV] END bootstrap=True, criterion=log_loss, min_samples_split=4, n_estimators=1000; total time= 1.1min\n",
      "[CV] END bootstrap=True, criterion=log_loss, min_samples_split=4, n_estimators=1000; total time= 1.0min\n",
      "[CV] END bootstrap=True, criterion=log_loss, min_samples_split=4, n_estimators=1000; total time=  59.0s\n",
      "[CV] END bootstrap=True, criterion=log_loss, min_samples_split=4, n_estimators=2000; total time= 2.1min\n",
      "[CV] END bootstrap=False, criterion=entropy, min_samples_split=3, n_estimators=600; total time=  55.5s\n",
      "[CV] END bootstrap=False, criterion=entropy, min_samples_split=3, n_estimators=600; total time=  54.6s\n",
      "[CV] END bootstrap=False, criterion=entropy, min_samples_split=3, n_estimators=600; total time=  53.5s\n",
      "[CV] END bootstrap=True, criterion=log_loss, min_samples_split=4, n_estimators=2000; total time= 2.0min\n",
      "[CV] END bootstrap=True, criterion=log_loss, min_samples_split=4, n_estimators=2000; total time= 2.1min\n",
      "[CV] END bootstrap=False, criterion=log_loss, min_samples_split=5, n_estimators=800; total time= 1.2min\n",
      "[CV] END bootstrap=False, criterion=log_loss, min_samples_split=5, n_estimators=800; total time= 1.1min\n",
      "[CV] END bootstrap=False, criterion=log_loss, min_samples_split=5, n_estimators=800; total time= 1.1min\n",
      "[CV] END bootstrap=True, criterion=log_loss, min_samples_split=2, n_estimators=1400; total time= 1.7min\n",
      "[CV] END bootstrap=True, criterion=log_loss, min_samples_split=2, n_estimators=1400; total time= 1.7min\n",
      "[CV] END bootstrap=True, criterion=log_loss, min_samples_split=2, n_estimators=1400; total time= 1.6min\n",
      "[CV] END bootstrap=False, criterion=gini, min_samples_split=4, n_estimators=800; total time= 1.4min\n",
      "[CV] END bootstrap=False, criterion=gini, min_samples_split=4, n_estimators=800; total time= 1.4min\n",
      "[CV] END bootstrap=False, criterion=gini, min_samples_split=4, n_estimators=800; total time= 1.3min\n",
      "[CV] END bootstrap=True, criterion=gini, min_samples_split=2, n_estimators=2000; total time= 2.8min\n",
      "[CV] END bootstrap=True, criterion=gini, min_samples_split=2, n_estimators=2000; total time= 2.8min\n",
      "[CV] END bootstrap=True, criterion=entropy, min_samples_split=2, n_estimators=1200; total time= 1.5min\n",
      "[CV] END bootstrap=True, criterion=entropy, min_samples_split=2, n_estimators=1200; total time= 1.5min\n",
      "[CV] END bootstrap=True, criterion=gini, min_samples_split=2, n_estimators=2000; total time= 2.6min\n",
      "[CV] END bootstrap=True, criterion=entropy, min_samples_split=2, n_estimators=1200; total time= 1.4min\n",
      "[CV] END bootstrap=True, criterion=log_loss, min_samples_split=5, n_estimators=1000; total time=  59.6s\n",
      "[CV] END bootstrap=True, criterion=log_loss, min_samples_split=5, n_estimators=1000; total time=  59.1s\n",
      "[CV] END bootstrap=True, criterion=log_loss, min_samples_split=5, n_estimators=1000; total time=  58.9s\n",
      "[CV] END bootstrap=True, criterion=log_loss, min_samples_split=5, n_estimators=800; total time=  46.8s\n",
      "[CV] END bootstrap=True, criterion=log_loss, min_samples_split=5, n_estimators=800; total time=  46.7s\n",
      "[CV] END bootstrap=False, criterion=log_loss, min_samples_split=2, n_estimators=1400; total time= 2.7min\n",
      "[CV] END bootstrap=False, criterion=log_loss, min_samples_split=5, n_estimators=200; total time=  17.1s\n",
      "[CV] END bootstrap=False, criterion=log_loss, min_samples_split=5, n_estimators=200; total time=  17.0s\n",
      "[CV] END bootstrap=False, criterion=log_loss, min_samples_split=2, n_estimators=1400; total time= 2.5min\n",
      "[CV] END bootstrap=False, criterion=log_loss, min_samples_split=5, n_estimators=200; total time=  16.5s\n",
      "[CV] END bootstrap=True, criterion=log_loss, min_samples_split=5, n_estimators=800; total time=  46.7s\n",
      "[CV] END bootstrap=False, criterion=log_loss, min_samples_split=2, n_estimators=1400; total time= 2.8min\n",
      "[CV] END bootstrap=False, criterion=entropy, min_samples_split=2, n_estimators=1800; total time= 3.5min\n"
     ]
    },
    {
     "name": "stderr",
     "output_type": "stream",
     "text": [
      "/Users/ravimaith/miniforge3/lib/python3.10/site-packages/joblib/externals/loky/process_executor.py:700: UserWarning: A worker stopped while some jobs were given to the executor. This can be caused by a too short worker timeout or by a memory leak.\n",
      "  warnings.warn(\n",
      "90778.00s - pydevd: Sending message related to process being replaced timed-out after 5 seconds\n"
     ]
    },
    {
     "name": "stdout",
     "output_type": "stream",
     "text": [
      "[CV] END bootstrap=True, criterion=gini, min_samples_split=3, n_estimators=1200; total time= 1.5min\n",
      "[CV] END bootstrap=False, criterion=entropy, min_samples_split=4, n_estimators=1200; total time= 1.8min\n",
      "[CV] END bootstrap=False, criterion=entropy, min_samples_split=2, n_estimators=1800; total time= 3.2min\n",
      "[CV] END bootstrap=True, criterion=gini, min_samples_split=3, n_estimators=1200; total time= 1.4min\n",
      "[CV] END bootstrap=False, criterion=entropy, min_samples_split=4, n_estimators=1200; total time= 1.8min\n",
      "[CV] END bootstrap=False, criterion=entropy, min_samples_split=4, n_estimators=1200; total time= 1.7min\n"
     ]
    },
    {
     "name": "stderr",
     "output_type": "stream",
     "text": [
      "90794.56s - pydevd: Sending message related to process being replaced timed-out after 5 seconds\n"
     ]
    },
    {
     "name": "stdout",
     "output_type": "stream",
     "text": [
      "[CV] END bootstrap=False, criterion=entropy, min_samples_split=2, n_estimators=1800; total time= 3.6min\n"
     ]
    },
    {
     "name": "stderr",
     "output_type": "stream",
     "text": [
      "90804.71s - pydevd: Sending message related to process being replaced timed-out after 5 seconds\n"
     ]
    },
    {
     "name": "stdout",
     "output_type": "stream",
     "text": [
      "[CV] END bootstrap=False, criterion=gini, min_samples_split=5, n_estimators=600; total time=  58.5s\n",
      "[CV] END bootstrap=False, criterion=gini, min_samples_split=5, n_estimators=600; total time=  58.3s\n",
      "[CV] END bootstrap=False, criterion=gini, min_samples_split=5, n_estimators=600; total time=  56.8s\n",
      "[CV] END bootstrap=True, criterion=gini, min_samples_split=3, n_estimators=1200; total time= 1.4min\n",
      "[CV] END bootstrap=False, criterion=gini, min_samples_split=2, n_estimators=1200; total time= 2.4min\n",
      "[CV] END bootstrap=False, criterion=gini, min_samples_split=2, n_estimators=1200; total time= 2.6min\n",
      "[CV] END bootstrap=False, criterion=gini, min_samples_split=2, n_estimators=1200; total time= 2.6min\n",
      "[CV] END bootstrap=True, criterion=gini, min_samples_split=3, n_estimators=2000; total time= 2.4min\n",
      "[CV] END bootstrap=True, criterion=gini, min_samples_split=3, n_estimators=2000; total time= 2.4min\n",
      "[CV] END bootstrap=False, criterion=gini, min_samples_split=2, n_estimators=1600; total time= 3.5min\n",
      "[CV] END bootstrap=True, criterion=gini, min_samples_split=5, n_estimators=200; total time=  14.0s\n",
      "[CV] END bootstrap=True, criterion=gini, min_samples_split=5, n_estimators=200; total time=  13.8s\n",
      "[CV] END bootstrap=True, criterion=gini, min_samples_split=5, n_estimators=200; total time=  13.2s\n",
      "[CV] END bootstrap=False, criterion=gini, min_samples_split=2, n_estimators=1600; total time= 3.2min\n",
      "[CV] END bootstrap=False, criterion=log_loss, min_samples_split=5, n_estimators=1200; total time= 1.7min\n",
      "[CV] END bootstrap=False, criterion=log_loss, min_samples_split=5, n_estimators=1200; total time= 1.7min\n",
      "[CV] END bootstrap=False, criterion=gini, min_samples_split=2, n_estimators=1600; total time= 3.6min\n",
      "[CV] END bootstrap=False, criterion=gini, min_samples_split=5, n_estimators=200; total time=  20.9s\n",
      "[CV] END bootstrap=False, criterion=gini, min_samples_split=5, n_estimators=200; total time=  20.2s\n",
      "[CV] END bootstrap=False, criterion=gini, min_samples_split=5, n_estimators=200; total time=  19.7s\n",
      "[CV] END bootstrap=True, criterion=gini, min_samples_split=3, n_estimators=2000; total time= 2.4min\n",
      "[CV] END bootstrap=True, criterion=gini, min_samples_split=3, n_estimators=200; total time=  14.2s\n",
      "[CV] END bootstrap=True, criterion=gini, min_samples_split=3, n_estimators=200; total time=  14.1s\n",
      "[CV] END bootstrap=True, criterion=gini, min_samples_split=3, n_estimators=200; total time=  13.9s\n",
      "[CV] END bootstrap=False, criterion=log_loss, min_samples_split=5, n_estimators=1200; total time= 1.7min\n",
      "[CV] END bootstrap=False, criterion=log_loss, min_samples_split=2, n_estimators=400; total time=  46.1s\n",
      "[CV] END bootstrap=False, criterion=log_loss, min_samples_split=2, n_estimators=400; total time=  42.1s\n",
      "[CV] END bootstrap=False, criterion=log_loss, min_samples_split=2, n_estimators=400; total time=  47.7s\n",
      "[CV] END bootstrap=False, criterion=entropy, min_samples_split=3, n_estimators=1400; total time= 2.1min\n",
      "[CV] END bootstrap=False, criterion=entropy, min_samples_split=3, n_estimators=1400; total time= 2.1min\n",
      "[CV] END bootstrap=False, criterion=entropy, min_samples_split=3, n_estimators=1400; total time= 2.1min\n",
      "[CV] END bootstrap=False, criterion=gini, min_samples_split=5, n_estimators=800; total time= 1.4min\n",
      "[CV] END bootstrap=False, criterion=gini, min_samples_split=5, n_estimators=800; total time= 1.4min\n",
      "[CV] END bootstrap=False, criterion=log_loss, min_samples_split=5, n_estimators=1600; total time= 2.3min\n",
      "[CV] END bootstrap=False, criterion=log_loss, min_samples_split=5, n_estimators=1600; total time= 2.3min\n",
      "[CV] END bootstrap=False, criterion=gini, min_samples_split=5, n_estimators=800; total time= 1.3min\n",
      "[CV] END bootstrap=True, criterion=log_loss, min_samples_split=3, n_estimators=1400; total time= 1.5min\n",
      "[CV] END bootstrap=True, criterion=log_loss, min_samples_split=3, n_estimators=1400; total time= 1.4min\n",
      "[CV] END bootstrap=False, criterion=log_loss, min_samples_split=5, n_estimators=1600; total time= 2.2min\n",
      "[CV] END bootstrap=True, criterion=log_loss, min_samples_split=3, n_estimators=1400; total time= 1.4min\n",
      "[CV] END bootstrap=False, criterion=entropy, min_samples_split=4, n_estimators=600; total time=  51.9s\n",
      "[CV] END bootstrap=True, criterion=gini, min_samples_split=4, n_estimators=1200; total time= 1.4min\n",
      "[CV] END bootstrap=True, criterion=gini, min_samples_split=4, n_estimators=1200; total time= 1.3min\n",
      "[CV] END bootstrap=True, criterion=gini, min_samples_split=4, n_estimators=1200; total time= 1.4min\n",
      "[CV] END bootstrap=False, criterion=entropy, min_samples_split=4, n_estimators=600; total time=  51.5s\n",
      "[CV] END bootstrap=False, criterion=entropy, min_samples_split=4, n_estimators=600; total time=  50.8s\n",
      "[CV] END bootstrap=False, criterion=log_loss, min_samples_split=4, n_estimators=1800; total time= 2.6min\n"
     ]
    },
    {
     "name": "stderr",
     "output_type": "stream",
     "text": [
      "91373.29s - pydevd: Sending message related to process being replaced timed-out after 5 seconds\n"
     ]
    },
    {
     "name": "stdout",
     "output_type": "stream",
     "text": [
      "[CV] END bootstrap=False, criterion=log_loss, min_samples_split=4, n_estimators=1800; total time= 2.5min\n",
      "[CV] END bootstrap=False, criterion=log_loss, min_samples_split=4, n_estimators=1800; total time= 2.5min\n",
      "[CV] END bootstrap=False, criterion=entropy, min_samples_split=5, n_estimators=600; total time=  50.3s\n",
      "[CV] END bootstrap=False, criterion=entropy, min_samples_split=5, n_estimators=600; total time=  50.5s\n",
      "[CV] END bootstrap=True, criterion=gini, min_samples_split=3, n_estimators=1800; total time= 2.1min\n",
      "[CV] END bootstrap=True, criterion=gini, min_samples_split=3, n_estimators=1800; total time= 2.1min\n",
      "[CV] END bootstrap=True, criterion=gini, min_samples_split=3, n_estimators=1800; total time= 2.1min\n",
      "[CV] END bootstrap=True, criterion=entropy, min_samples_split=4, n_estimators=2000; total time= 1.9min\n",
      "[CV] END bootstrap=True, criterion=entropy, min_samples_split=4, n_estimators=2000; total time= 1.9min\n",
      "[CV] END bootstrap=False, criterion=entropy, min_samples_split=5, n_estimators=600; total time=  51.0s\n",
      "[CV] END bootstrap=True, criterion=entropy, min_samples_split=4, n_estimators=2000; total time= 1.9min\n",
      "[CV] END bootstrap=True, criterion=entropy, min_samples_split=3, n_estimators=1200; total time= 1.2min\n",
      "[CV] END bootstrap=True, criterion=entropy, min_samples_split=3, n_estimators=1200; total time= 1.2min\n",
      "[CV] END bootstrap=True, criterion=entropy, min_samples_split=3, n_estimators=1200; total time= 1.2min\n",
      "[CV] END bootstrap=True, criterion=entropy, min_samples_split=5, n_estimators=2000; total time= 1.9min\n",
      "[CV] END bootstrap=True, criterion=entropy, min_samples_split=5, n_estimators=2000; total time= 1.9min\n",
      "[CV] END bootstrap=False, criterion=entropy, min_samples_split=3, n_estimators=1200; total time= 1.8min\n",
      "[CV] END bootstrap=True, criterion=entropy, min_samples_split=5, n_estimators=2000; total time= 1.9min\n",
      "[CV] END bootstrap=False, criterion=entropy, min_samples_split=3, n_estimators=1200; total time= 1.8min\n",
      "[CV] END bootstrap=True, criterion=log_loss, min_samples_split=5, n_estimators=600; total time=  35.3s\n",
      "[CV] END bootstrap=False, criterion=entropy, min_samples_split=3, n_estimators=1200; total time= 1.8min\n",
      "[CV] END bootstrap=True, criterion=log_loss, min_samples_split=5, n_estimators=600; total time=  34.8s\n",
      "[CV] END bootstrap=True, criterion=log_loss, min_samples_split=5, n_estimators=600; total time=  34.2s\n",
      "[CV] END bootstrap=False, criterion=log_loss, min_samples_split=4, n_estimators=400; total time=  35.6s\n",
      "[CV] END bootstrap=False, criterion=log_loss, min_samples_split=4, n_estimators=400; total time=  35.2s\n",
      "[CV] END bootstrap=False, criterion=log_loss, min_samples_split=4, n_estimators=400; total time=  34.5s\n",
      "[CV] END bootstrap=False, criterion=log_loss, min_samples_split=4, n_estimators=1600; total time= 2.4min\n",
      "[CV] END bootstrap=False, criterion=log_loss, min_samples_split=4, n_estimators=1600; total time= 2.3min\n",
      "[CV] END bootstrap=False, criterion=log_loss, min_samples_split=4, n_estimators=1600; total time= 2.3min\n",
      "[CV] END bootstrap=True, criterion=gini, min_samples_split=3, n_estimators=1400; total time= 1.7min\n",
      "[CV] END bootstrap=True, criterion=gini, min_samples_split=3, n_estimators=1400; total time= 1.7min\n",
      "[CV] END bootstrap=True, criterion=gini, min_samples_split=3, n_estimators=1400; total time= 1.7min\n",
      "[CV] END bootstrap=True, criterion=entropy, min_samples_split=4, n_estimators=1400; total time= 1.4min\n",
      "[CV] END bootstrap=False, criterion=gini, min_samples_split=5, n_estimators=1400; total time= 2.4min\n",
      "[CV] END bootstrap=False, criterion=gini, min_samples_split=5, n_estimators=1400; total time= 2.4min\n",
      "[CV] END bootstrap=True, criterion=entropy, min_samples_split=4, n_estimators=1400; total time= 1.4min\n",
      "[CV] END bootstrap=False, criterion=gini, min_samples_split=5, n_estimators=1400; total time= 2.3min\n",
      "[CV] END bootstrap=True, criterion=entropy, min_samples_split=4, n_estimators=1400; total time= 1.3min\n",
      "[CV] END bootstrap=False, criterion=entropy, min_samples_split=2, n_estimators=1200; total time= 2.3min\n",
      "[CV] END bootstrap=False, criterion=entropy, min_samples_split=2, n_estimators=1200; total time= 2.4min\n",
      "[CV] END bootstrap=False, criterion=entropy, min_samples_split=2, n_estimators=1200; total time= 2.1min\n",
      "[CV] END bootstrap=True, criterion=entropy, min_samples_split=4, n_estimators=200; total time=  11.5s\n",
      "[CV] END bootstrap=True, criterion=entropy, min_samples_split=4, n_estimators=200; total time=  11.8s\n",
      "[CV] END bootstrap=True, criterion=entropy, min_samples_split=4, n_estimators=200; total time=  11.5s\n",
      "[CV] END bootstrap=True, criterion=gini, min_samples_split=5, n_estimators=1800; total time= 2.1min\n",
      "[CV] END bootstrap=True, criterion=gini, min_samples_split=5, n_estimators=1800; total time= 2.0min\n",
      "[CV] END bootstrap=True, criterion=gini, min_samples_split=5, n_estimators=1800; total time= 2.0min\n",
      "[CV] END bootstrap=False, criterion=log_loss, min_samples_split=2, n_estimators=1000; total time= 1.9min\n",
      "[CV] END bootstrap=False, criterion=gini, min_samples_split=3, n_estimators=2000; total time= 3.6min\n",
      "[CV] END bootstrap=False, criterion=log_loss, min_samples_split=2, n_estimators=1000; total time= 2.0min\n",
      "[CV] END bootstrap=False, criterion=log_loss, min_samples_split=2, n_estimators=1000; total time= 1.8min\n",
      "[CV] END bootstrap=False, criterion=gini, min_samples_split=3, n_estimators=2000; total time= 3.5min\n",
      "[CV] END bootstrap=False, criterion=entropy, min_samples_split=4, n_estimators=1400; total time= 2.1min\n",
      "[CV] END bootstrap=False, criterion=entropy, min_samples_split=4, n_estimators=1400; total time= 2.1min\n",
      "[CV] END bootstrap=False, criterion=gini, min_samples_split=3, n_estimators=2000; total time= 3.4min\n",
      "[CV] END bootstrap=False, criterion=entropy, min_samples_split=5, n_estimators=800; total time= 1.2min\n",
      "[CV] END bootstrap=False, criterion=entropy, min_samples_split=5, n_estimators=800; total time= 1.1min\n",
      "[CV] END bootstrap=False, criterion=entropy, min_samples_split=5, n_estimators=800; total time= 1.1min\n",
      "[CV] END bootstrap=False, criterion=entropy, min_samples_split=4, n_estimators=1400; total time= 2.0min\n",
      "[CV] END bootstrap=False, criterion=log_loss, min_samples_split=4, n_estimators=1000; total time= 1.5min\n",
      "[CV] END bootstrap=False, criterion=log_loss, min_samples_split=4, n_estimators=1000; total time= 1.5min\n",
      "[CV] END bootstrap=False, criterion=log_loss, min_samples_split=2, n_estimators=1600; total time= 2.8min\n",
      "[CV] END bootstrap=False, criterion=log_loss, min_samples_split=4, n_estimators=1000; total time= 1.4min\n"
     ]
    },
    {
     "name": "stderr",
     "output_type": "stream",
     "text": [
      "92197.00s - pydevd: Sending message related to process being replaced timed-out after 5 seconds\n"
     ]
    },
    {
     "name": "stdout",
     "output_type": "stream",
     "text": [
      "[CV] END bootstrap=False, criterion=log_loss, min_samples_split=2, n_estimators=1600; total time= 3.0min\n",
      "[CV] END bootstrap=False, criterion=log_loss, min_samples_split=2, n_estimators=1600; total time= 3.1min\n",
      "[CV] END bootstrap=True, criterion=log_loss, min_samples_split=5, n_estimators=1200; total time= 1.2min\n",
      "[CV] END bootstrap=True, criterion=log_loss, min_samples_split=5, n_estimators=1200; total time= 1.2min\n",
      "[CV] END bootstrap=True, criterion=log_loss, min_samples_split=5, n_estimators=1200; total time= 1.2min\n",
      "[CV] END bootstrap=True, criterion=entropy, min_samples_split=5, n_estimators=800; total time=  52.1s\n",
      "[CV] END bootstrap=True, criterion=entropy, min_samples_split=5, n_estimators=800; total time=  52.2s\n",
      "[CV] END bootstrap=False, criterion=log_loss, min_samples_split=2, n_estimators=2000; total time= 4.0min\n"
     ]
    },
    {
     "name": "stderr",
     "output_type": "stream",
     "text": [
      "92356.15s - pydevd: Sending message related to process being replaced timed-out after 5 seconds\n"
     ]
    },
    {
     "name": "stdout",
     "output_type": "stream",
     "text": [
      "[CV] END bootstrap=True, criterion=entropy, min_samples_split=5, n_estimators=800; total time=  50.5s\n",
      "[CV] END bootstrap=False, criterion=log_loss, min_samples_split=2, n_estimators=2000; total time= 4.2min\n"
     ]
    },
    {
     "name": "stderr",
     "output_type": "stream",
     "text": [
      "92383.59s - pydevd: Sending message related to process being replaced timed-out after 5 seconds\n"
     ]
    },
    {
     "name": "stdout",
     "output_type": "stream",
     "text": [
      "[CV] END bootstrap=False, criterion=log_loss, min_samples_split=2, n_estimators=2000; total time= 3.7min\n"
     ]
    },
    {
     "name": "stderr",
     "output_type": "stream",
     "text": [
      "92391.65s - pydevd: Sending message related to process being replaced timed-out after 5 seconds\n"
     ]
    },
    {
     "name": "stdout",
     "output_type": "stream",
     "text": [
      "[CV] END bootstrap=False, criterion=log_loss, min_samples_split=3, n_estimators=2000; total time= 3.3min\n",
      "[CV] END bootstrap=False, criterion=log_loss, min_samples_split=3, n_estimators=2000; total time= 3.2min\n",
      "[CV] END bootstrap=False, criterion=log_loss, min_samples_split=3, n_estimators=2000; total time= 3.2min\n",
      "[CV] END bootstrap=True, criterion=log_loss, min_samples_split=3, n_estimators=1200; total time= 1.3min\n",
      "[CV] END bootstrap=True, criterion=log_loss, min_samples_split=3, n_estimators=1200; total time= 1.3min\n",
      "[CV] END bootstrap=True, criterion=log_loss, min_samples_split=3, n_estimators=1200; total time= 1.3min\n",
      "[CV] END bootstrap=False, criterion=gini, min_samples_split=3, n_estimators=1400; total time= 2.6min\n",
      "[CV] END bootstrap=False, criterion=gini, min_samples_split=2, n_estimators=200; total time=  28.2s\n",
      "[CV] END bootstrap=False, criterion=gini, min_samples_split=2, n_estimators=200; total time=  29.1s\n",
      "[CV] END bootstrap=False, criterion=gini, min_samples_split=2, n_estimators=200; total time=  25.6s\n",
      "[CV] END bootstrap=False, criterion=gini, min_samples_split=3, n_estimators=1400; total time= 2.5min\n",
      "[CV] END bootstrap=False, criterion=gini, min_samples_split=3, n_estimators=1400; total time= 2.5min\n",
      "[CV] END bootstrap=True, criterion=log_loss, min_samples_split=4, n_estimators=400; total time=  26.0s\n",
      "[CV] END bootstrap=True, criterion=log_loss, min_samples_split=4, n_estimators=400; total time=  26.7s\n",
      "[CV] END bootstrap=True, criterion=log_loss, min_samples_split=4, n_estimators=400; total time=  27.0s\n",
      "[CV] END bootstrap=False, criterion=gini, min_samples_split=2, n_estimators=1400; total time= 3.2min\n",
      "[CV] END bootstrap=True, criterion=entropy, min_samples_split=4, n_estimators=1600; total time= 1.7min\n",
      "[CV] END bootstrap=True, criterion=entropy, min_samples_split=4, n_estimators=1600; total time= 1.7min\n",
      "[CV] END bootstrap=True, criterion=entropy, min_samples_split=4, n_estimators=1600; total time= 1.7min\n",
      "[CV] END bootstrap=False, criterion=gini, min_samples_split=2, n_estimators=1400; total time= 3.4min\n",
      "[CV] END bootstrap=False, criterion=gini, min_samples_split=2, n_estimators=1400; total time= 3.1min\n",
      "[CV] END bootstrap=True, criterion=entropy, min_samples_split=4, n_estimators=1800; total time= 2.0min\n",
      "[CV] END bootstrap=True, criterion=entropy, min_samples_split=4, n_estimators=1800; total time= 2.0min\n",
      "[CV] END bootstrap=True, criterion=entropy, min_samples_split=4, n_estimators=1800; total time= 2.0min\n",
      "[CV] END bootstrap=True, criterion=log_loss, min_samples_split=4, n_estimators=1800; total time= 2.0min\n",
      "[CV] END bootstrap=True, criterion=log_loss, min_samples_split=4, n_estimators=1800; total time= 2.0min\n",
      "[CV] END bootstrap=True, criterion=log_loss, min_samples_split=4, n_estimators=1800; total time= 2.0min\n",
      "[CV] END bootstrap=True, criterion=log_loss, min_samples_split=2, n_estimators=1000; total time= 1.4min\n",
      "[CV] END bootstrap=True, criterion=log_loss, min_samples_split=2, n_estimators=1000; total time= 1.4min\n",
      "[CV] END bootstrap=True, criterion=log_loss, min_samples_split=2, n_estimators=1000; total time= 1.3min\n",
      "[CV] END bootstrap=True, criterion=log_loss, min_samples_split=5, n_estimators=1600; total time= 1.7min\n",
      "[CV] END bootstrap=False, criterion=entropy, min_samples_split=5, n_estimators=1000; total time= 1.5min\n",
      "[CV] END bootstrap=False, criterion=entropy, min_samples_split=5, n_estimators=1000; total time= 1.6min\n",
      "[CV] END bootstrap=True, criterion=log_loss, min_samples_split=5, n_estimators=1600; total time= 1.7min\n",
      "[CV] END bootstrap=False, criterion=entropy, min_samples_split=5, n_estimators=1000; total time= 1.5min\n",
      "[CV] END bootstrap=True, criterion=log_loss, min_samples_split=5, n_estimators=1600; total time= 1.7min\n",
      "[CV] END bootstrap=True, criterion=log_loss, min_samples_split=5, n_estimators=400; total time=  23.2s\n",
      "[CV] END bootstrap=True, criterion=log_loss, min_samples_split=5, n_estimators=400; total time=  23.2s\n",
      "[CV] END bootstrap=True, criterion=log_loss, min_samples_split=5, n_estimators=400; total time=  23.1s\n",
      "[CV] END bootstrap=False, criterion=entropy, min_samples_split=3, n_estimators=1600; total time= 2.6min\n",
      "[CV] END bootstrap=False, criterion=entropy, min_samples_split=3, n_estimators=1600; total time= 2.6min\n",
      "[CV] END bootstrap=False, criterion=entropy, min_samples_split=3, n_estimators=1600; total time= 2.5min\n",
      "[CV] END bootstrap=True, criterion=gini, min_samples_split=4, n_estimators=2000; total time= 2.4min\n",
      "[CV] END bootstrap=True, criterion=gini, min_samples_split=4, n_estimators=2000; total time= 2.4min\n",
      "[CV] END bootstrap=True, criterion=entropy, min_samples_split=5, n_estimators=1200; total time= 1.2min\n",
      "[CV] END bootstrap=False, criterion=gini, min_samples_split=2, n_estimators=1000; total time= 2.2min\n",
      "[CV] END bootstrap=False, criterion=gini, min_samples_split=2, n_estimators=1000; total time= 2.2min\n",
      "[CV] END bootstrap=True, criterion=gini, min_samples_split=4, n_estimators=2000; total time= 2.3min\n",
      "[CV] END bootstrap=True, criterion=entropy, min_samples_split=5, n_estimators=1200; total time= 1.2min\n",
      "[CV] END bootstrap=False, criterion=gini, min_samples_split=2, n_estimators=1000; total time= 2.0min\n",
      "[CV] END bootstrap=True, criterion=log_loss, min_samples_split=2, n_estimators=600; total time=  43.6s\n",
      "[CV] END bootstrap=True, criterion=log_loss, min_samples_split=2, n_estimators=600; total time=  44.2s\n",
      "[CV] END bootstrap=True, criterion=log_loss, min_samples_split=2, n_estimators=600; total time=  40.9s\n",
      "[CV] END bootstrap=True, criterion=entropy, min_samples_split=5, n_estimators=1200; total time= 1.1min\n",
      "[CV] END bootstrap=True, criterion=gini, min_samples_split=2, n_estimators=1200; total time= 1.8min\n",
      "[CV] END bootstrap=True, criterion=gini, min_samples_split=2, n_estimators=1200; total time= 1.8min\n",
      "[CV] END bootstrap=True, criterion=entropy, min_samples_split=3, n_estimators=1400; total time= 1.6min\n",
      "[CV] END bootstrap=True, criterion=entropy, min_samples_split=3, n_estimators=1400; total time= 1.6min\n",
      "[CV] END bootstrap=True, criterion=gini, min_samples_split=2, n_estimators=1200; total time= 1.7min\n",
      "[CV] END bootstrap=True, criterion=entropy, min_samples_split=3, n_estimators=1400; total time= 1.6min\n",
      "[CV] END bootstrap=False, criterion=entropy, min_samples_split=2, n_estimators=1000; total time= 2.1min\n",
      "[CV] END bootstrap=False, criterion=entropy, min_samples_split=2, n_estimators=1000; total time= 2.2min\n",
      "[CV] END bootstrap=False, criterion=entropy, min_samples_split=2, n_estimators=1000; total time= 1.9min\n",
      "[CV] END bootstrap=True, criterion=log_loss, min_samples_split=3, n_estimators=1600; total time= 1.8min\n",
      "[CV] END bootstrap=True, criterion=log_loss, min_samples_split=3, n_estimators=1600; total time= 1.8min\n",
      "[CV] END bootstrap=True, criterion=entropy, min_samples_split=4, n_estimators=1200; total time= 1.2min\n",
      "[CV] END bootstrap=True, criterion=log_loss, min_samples_split=3, n_estimators=1600; total time= 1.7min\n",
      "[CV] END bootstrap=False, criterion=log_loss, min_samples_split=3, n_estimators=600; total time=  53.4s\n",
      "[CV] END bootstrap=True, criterion=entropy, min_samples_split=4, n_estimators=1200; total time= 1.2min\n",
      "[CV] END bootstrap=True, criterion=entropy, min_samples_split=4, n_estimators=1200; total time= 1.2min\n",
      "[CV] END bootstrap=False, criterion=log_loss, min_samples_split=3, n_estimators=600; total time=  53.5s\n",
      "[CV] END bootstrap=False, criterion=log_loss, min_samples_split=3, n_estimators=600; total time=  53.4s\n",
      "[CV] END bootstrap=False, criterion=gini, min_samples_split=5, n_estimators=2000; total time= 3.5min\n",
      "[CV] END bootstrap=False, criterion=gini, min_samples_split=5, n_estimators=2000; total time= 3.4min\n",
      "[CV] END bootstrap=False, criterion=gini, min_samples_split=5, n_estimators=2000; total time= 3.5min\n",
      "[CV] END bootstrap=True, criterion=gini, min_samples_split=5, n_estimators=400; total time=  29.6s\n",
      "[CV] END bootstrap=True, criterion=gini, min_samples_split=5, n_estimators=400; total time=  29.6s\n",
      "[CV] END bootstrap=False, criterion=gini, min_samples_split=4, n_estimators=600; total time= 1.1min\n",
      "[CV] END bootstrap=False, criterion=gini, min_samples_split=4, n_estimators=600; total time= 1.1min\n",
      "[CV] END bootstrap=False, criterion=gini, min_samples_split=4, n_estimators=600; total time= 1.1min\n",
      "[CV] END bootstrap=True, criterion=gini, min_samples_split=5, n_estimators=400; total time=  26.7s\n",
      "[CV] END bootstrap=True, criterion=gini, min_samples_split=3, n_estimators=600; total time=  42.8s\n",
      "[CV] END bootstrap=True, criterion=gini, min_samples_split=3, n_estimators=600; total time=  41.6s\n",
      "[CV] END bootstrap=True, criterion=gini, min_samples_split=3, n_estimators=600; total time=  41.5s\n",
      "[CV] END bootstrap=True, criterion=gini, min_samples_split=5, n_estimators=1200; total time= 1.3min\n",
      "[CV] END bootstrap=True, criterion=gini, min_samples_split=5, n_estimators=1200; total time= 1.3min\n",
      "[CV] END bootstrap=True, criterion=gini, min_samples_split=5, n_estimators=1200; total time= 1.3min\n",
      "[CV] END bootstrap=False, criterion=log_loss, min_samples_split=2, n_estimators=1800; total time= 3.5min\n",
      "[CV] END bootstrap=False, criterion=log_loss, min_samples_split=2, n_estimators=1800; total time= 3.2min\n",
      "[CV] END bootstrap=False, criterion=log_loss, min_samples_split=2, n_estimators=1800; total time= 3.6min\n",
      "[CV] END bootstrap=True, criterion=entropy, min_samples_split=2, n_estimators=600; total time=  43.7s\n",
      "[CV] END bootstrap=True, criterion=entropy, min_samples_split=2, n_estimators=600; total time=  45.5s\n",
      "[CV] END bootstrap=True, criterion=entropy, min_samples_split=2, n_estimators=600; total time=  42.3s\n",
      "[CV] END bootstrap=True, criterion=gini, min_samples_split=4, n_estimators=1800; total time= 2.1min\n",
      "[CV] END bootstrap=True, criterion=gini, min_samples_split=4, n_estimators=1800; total time= 2.1min\n",
      "[CV] END bootstrap=False, criterion=log_loss, min_samples_split=4, n_estimators=800; total time= 1.2min\n",
      "[CV] END bootstrap=False, criterion=log_loss, min_samples_split=4, n_estimators=800; total time= 1.2min\n",
      "[CV] END bootstrap=False, criterion=log_loss, min_samples_split=4, n_estimators=800; total time= 1.2min\n",
      "[CV] END bootstrap=True, criterion=gini, min_samples_split=4, n_estimators=1800; total time= 2.1min\n",
      "[CV] END bootstrap=False, criterion=entropy, min_samples_split=2, n_estimators=400; total time=  47.0s\n",
      "[CV] END bootstrap=True, criterion=entropy, min_samples_split=3, n_estimators=400; total time=  26.3s\n",
      "[CV] END bootstrap=False, criterion=entropy, min_samples_split=2, n_estimators=400; total time=  51.6s\n",
      "[CV] END bootstrap=True, criterion=entropy, min_samples_split=3, n_estimators=400; total time=  27.6s\n",
      "[CV] END bootstrap=True, criterion=entropy, min_samples_split=3, n_estimators=400; total time=  27.1s\n",
      "[CV] END bootstrap=False, criterion=entropy, min_samples_split=2, n_estimators=400; total time=  46.4s\n",
      "[CV] END bootstrap=False, criterion=entropy, min_samples_split=5, n_estimators=200; total time=  17.9s\n",
      "[CV] END bootstrap=False, criterion=entropy, min_samples_split=5, n_estimators=200; total time=  17.9s\n",
      "[CV] END bootstrap=False, criterion=entropy, min_samples_split=5, n_estimators=200; total time=  17.0s\n",
      "[CV] END bootstrap=False, criterion=gini, min_samples_split=4, n_estimators=1800; total time= 3.3min\n",
      "[CV] END bootstrap=True, criterion=entropy, min_samples_split=5, n_estimators=1400; total time= 1.4min\n",
      "[CV] END bootstrap=False, criterion=gini, min_samples_split=4, n_estimators=1800; total time= 3.2min\n",
      "[CV] END bootstrap=False, criterion=gini, min_samples_split=4, n_estimators=1800; total time= 3.1min\n",
      "[CV] END bootstrap=True, criterion=entropy, min_samples_split=5, n_estimators=1400; total time= 1.4min\n",
      "[CV] END bootstrap=True, criterion=entropy, min_samples_split=2, n_estimators=400; total time=  32.2s\n",
      "[CV] END bootstrap=True, criterion=entropy, min_samples_split=2, n_estimators=400; total time=  34.1s\n",
      "[CV] END bootstrap=True, criterion=entropy, min_samples_split=2, n_estimators=400; total time=  30.8s\n",
      "[CV] END bootstrap=False, criterion=gini, min_samples_split=3, n_estimators=1600; total time= 3.0min\n",
      "[CV] END bootstrap=False, criterion=gini, min_samples_split=3, n_estimators=1600; total time= 2.9min\n",
      "[CV] END bootstrap=False, criterion=gini, min_samples_split=3, n_estimators=1600; total time= 3.0min\n",
      "[CV] END bootstrap=True, criterion=entropy, min_samples_split=5, n_estimators=1400; total time= 1.4min\n",
      "[CV] END bootstrap=False, criterion=entropy, min_samples_split=2, n_estimators=600; total time= 1.1min\n",
      "[CV] END bootstrap=False, criterion=entropy, min_samples_split=2, n_estimators=600; total time=  56.5s\n",
      "[CV] END bootstrap=False, criterion=entropy, min_samples_split=2, n_estimators=600; total time= 1.1min\n",
      "[CV] END bootstrap=False, criterion=gini, min_samples_split=4, n_estimators=1400; total time= 1.4min\n",
      "[CV] END bootstrap=False, criterion=gini, min_samples_split=4, n_estimators=1400; total time= 1.2min\n",
      "[CV] END bootstrap=False, criterion=gini, min_samples_split=4, n_estimators=1400; total time= 1.1min\n"
     ]
    },
    {
     "data": {
      "text/html": [
       "<style>#sk-container-id-1 {color: black;background-color: white;}#sk-container-id-1 pre{padding: 0;}#sk-container-id-1 div.sk-toggleable {background-color: white;}#sk-container-id-1 label.sk-toggleable__label {cursor: pointer;display: block;width: 100%;margin-bottom: 0;padding: 0.3em;box-sizing: border-box;text-align: center;}#sk-container-id-1 label.sk-toggleable__label-arrow:before {content: \"▸\";float: left;margin-right: 0.25em;color: #696969;}#sk-container-id-1 label.sk-toggleable__label-arrow:hover:before {color: black;}#sk-container-id-1 div.sk-estimator:hover label.sk-toggleable__label-arrow:before {color: black;}#sk-container-id-1 div.sk-toggleable__content {max-height: 0;max-width: 0;overflow: hidden;text-align: left;background-color: #f0f8ff;}#sk-container-id-1 div.sk-toggleable__content pre {margin: 0.2em;color: black;border-radius: 0.25em;background-color: #f0f8ff;}#sk-container-id-1 input.sk-toggleable__control:checked~div.sk-toggleable__content {max-height: 200px;max-width: 100%;overflow: auto;}#sk-container-id-1 input.sk-toggleable__control:checked~label.sk-toggleable__label-arrow:before {content: \"▾\";}#sk-container-id-1 div.sk-estimator input.sk-toggleable__control:checked~label.sk-toggleable__label {background-color: #d4ebff;}#sk-container-id-1 div.sk-label input.sk-toggleable__control:checked~label.sk-toggleable__label {background-color: #d4ebff;}#sk-container-id-1 input.sk-hidden--visually {border: 0;clip: rect(1px 1px 1px 1px);clip: rect(1px, 1px, 1px, 1px);height: 1px;margin: -1px;overflow: hidden;padding: 0;position: absolute;width: 1px;}#sk-container-id-1 div.sk-estimator {font-family: monospace;background-color: #f0f8ff;border: 1px dotted black;border-radius: 0.25em;box-sizing: border-box;margin-bottom: 0.5em;}#sk-container-id-1 div.sk-estimator:hover {background-color: #d4ebff;}#sk-container-id-1 div.sk-parallel-item::after {content: \"\";width: 100%;border-bottom: 1px solid gray;flex-grow: 1;}#sk-container-id-1 div.sk-label:hover label.sk-toggleable__label {background-color: #d4ebff;}#sk-container-id-1 div.sk-serial::before {content: \"\";position: absolute;border-left: 1px solid gray;box-sizing: border-box;top: 0;bottom: 0;left: 50%;z-index: 0;}#sk-container-id-1 div.sk-serial {display: flex;flex-direction: column;align-items: center;background-color: white;padding-right: 0.2em;padding-left: 0.2em;position: relative;}#sk-container-id-1 div.sk-item {position: relative;z-index: 1;}#sk-container-id-1 div.sk-parallel {display: flex;align-items: stretch;justify-content: center;background-color: white;position: relative;}#sk-container-id-1 div.sk-item::before, #sk-container-id-1 div.sk-parallel-item::before {content: \"\";position: absolute;border-left: 1px solid gray;box-sizing: border-box;top: 0;bottom: 0;left: 50%;z-index: -1;}#sk-container-id-1 div.sk-parallel-item {display: flex;flex-direction: column;z-index: 1;position: relative;background-color: white;}#sk-container-id-1 div.sk-parallel-item:first-child::after {align-self: flex-end;width: 50%;}#sk-container-id-1 div.sk-parallel-item:last-child::after {align-self: flex-start;width: 50%;}#sk-container-id-1 div.sk-parallel-item:only-child::after {width: 0;}#sk-container-id-1 div.sk-dashed-wrapped {border: 1px dashed gray;margin: 0 0.4em 0.5em 0.4em;box-sizing: border-box;padding-bottom: 0.4em;background-color: white;}#sk-container-id-1 div.sk-label label {font-family: monospace;font-weight: bold;display: inline-block;line-height: 1.2em;}#sk-container-id-1 div.sk-label-container {text-align: center;}#sk-container-id-1 div.sk-container {/* jupyter's `normalize.less` sets `[hidden] { display: none; }` but bootstrap.min.css set `[hidden] { display: none !important; }` so we also need the `!important` here to be able to override the default hidden behavior on the sphinx rendered scikit-learn.org. See: https://github.com/scikit-learn/scikit-learn/issues/21755 */display: inline-block !important;position: relative;}#sk-container-id-1 div.sk-text-repr-fallback {display: none;}</style><div id=\"sk-container-id-1\" class=\"sk-top-container\"><div class=\"sk-text-repr-fallback\"><pre>RandomizedSearchCV(cv=3, estimator=RandomForestClassifier(n_jobs=3), n_iter=100,\n",
       "                   n_jobs=-1,\n",
       "                   param_distributions={&#x27;bootstrap&#x27;: [True, False],\n",
       "                                        &#x27;criterion&#x27;: [&#x27;gini&#x27;, &#x27;entropy&#x27;,\n",
       "                                                      &#x27;log_loss&#x27;],\n",
       "                                        &#x27;min_samples_split&#x27;: [2, 3, 4, 5],\n",
       "                                        &#x27;n_estimators&#x27;: [200, 400, 600, 800,\n",
       "                                                         1000, 1200, 1400, 1600,\n",
       "                                                         1800, 2000]},\n",
       "                   random_state=42, verbose=2)</pre><b>In a Jupyter environment, please rerun this cell to show the HTML representation or trust the notebook. <br />On GitHub, the HTML representation is unable to render, please try loading this page with nbviewer.org.</b></div><div class=\"sk-container\" hidden><div class=\"sk-item sk-dashed-wrapped\"><div class=\"sk-label-container\"><div class=\"sk-label sk-toggleable\"><input class=\"sk-toggleable__control sk-hidden--visually\" id=\"sk-estimator-id-1\" type=\"checkbox\" ><label for=\"sk-estimator-id-1\" class=\"sk-toggleable__label sk-toggleable__label-arrow\">RandomizedSearchCV</label><div class=\"sk-toggleable__content\"><pre>RandomizedSearchCV(cv=3, estimator=RandomForestClassifier(n_jobs=3), n_iter=100,\n",
       "                   n_jobs=-1,\n",
       "                   param_distributions={&#x27;bootstrap&#x27;: [True, False],\n",
       "                                        &#x27;criterion&#x27;: [&#x27;gini&#x27;, &#x27;entropy&#x27;,\n",
       "                                                      &#x27;log_loss&#x27;],\n",
       "                                        &#x27;min_samples_split&#x27;: [2, 3, 4, 5],\n",
       "                                        &#x27;n_estimators&#x27;: [200, 400, 600, 800,\n",
       "                                                         1000, 1200, 1400, 1600,\n",
       "                                                         1800, 2000]},\n",
       "                   random_state=42, verbose=2)</pre></div></div></div><div class=\"sk-parallel\"><div class=\"sk-parallel-item\"><div class=\"sk-item\"><div class=\"sk-label-container\"><div class=\"sk-label sk-toggleable\"><input class=\"sk-toggleable__control sk-hidden--visually\" id=\"sk-estimator-id-2\" type=\"checkbox\" ><label for=\"sk-estimator-id-2\" class=\"sk-toggleable__label sk-toggleable__label-arrow\">estimator: RandomForestClassifier</label><div class=\"sk-toggleable__content\"><pre>RandomForestClassifier(n_jobs=3)</pre></div></div></div><div class=\"sk-serial\"><div class=\"sk-item\"><div class=\"sk-estimator sk-toggleable\"><input class=\"sk-toggleable__control sk-hidden--visually\" id=\"sk-estimator-id-3\" type=\"checkbox\" ><label for=\"sk-estimator-id-3\" class=\"sk-toggleable__label sk-toggleable__label-arrow\">RandomForestClassifier</label><div class=\"sk-toggleable__content\"><pre>RandomForestClassifier(n_jobs=3)</pre></div></div></div></div></div></div></div></div></div></div>"
      ],
      "text/plain": [
       "RandomizedSearchCV(cv=3, estimator=RandomForestClassifier(n_jobs=3), n_iter=100,\n",
       "                   n_jobs=-1,\n",
       "                   param_distributions={'bootstrap': [True, False],\n",
       "                                        'criterion': ['gini', 'entropy',\n",
       "                                                      'log_loss'],\n",
       "                                        'min_samples_split': [2, 3, 4, 5],\n",
       "                                        'n_estimators': [200, 400, 600, 800,\n",
       "                                                         1000, 1200, 1400, 1600,\n",
       "                                                         1800, 2000]},\n",
       "                   random_state=42, verbose=2)"
      ]
     },
     "execution_count": 175,
     "metadata": {},
     "output_type": "execute_result"
    }
   ],
   "source": [
    "from sklearn.model_selection import RandomizedSearchCV\n",
    "\n",
    "rf_random = RandomizedSearchCV(estimator = rf, param_distributions = random_grid, n_iter = 100, cv = 3, verbose=2, random_state=42, n_jobs = -1)\n",
    "# Fit the random search model - takes one hour\n",
    "rf_random.fit(X_train_counts, y_train)"
   ]
  },
  {
   "cell_type": "code",
   "execution_count": 176,
   "metadata": {},
   "outputs": [
    {
     "data": {
      "text/plain": [
       "{'n_estimators': 1600,\n",
       " 'min_samples_split': 2,\n",
       " 'criterion': 'gini',\n",
       " 'bootstrap': False}"
      ]
     },
     "execution_count": 176,
     "metadata": {},
     "output_type": "execute_result"
    }
   ],
   "source": [
    "rf_random.best_params_"
   ]
  },
  {
   "cell_type": "code",
   "execution_count": 177,
   "metadata": {},
   "outputs": [],
   "source": [
    "rf_best = RandomForestClassifier(n_estimators=1600, min_samples_split=2, criterion='gini', bootstrap=False).fit(X_train_scaled, y_train)"
   ]
  },
  {
   "cell_type": "code",
   "execution_count": 189,
   "metadata": {},
   "outputs": [
    {
     "name": "stdout",
     "output_type": "stream",
     "text": [
      "Best hyperparameters accuracy:  0.8297338989587351\n"
     ]
    }
   ],
   "source": [
    "y_pred_rf = rf_best.predict(X_test_scaled)\n",
    "print(\"Best hyperparameters accuracy: \",accuracy_score(y_pred_rf, y_test))"
   ]
  },
  {
   "cell_type": "code",
   "execution_count": null,
   "metadata": {},
   "outputs": [],
   "source": []
  }
 ],
 "metadata": {
  "kernelspec": {
   "display_name": "base",
   "language": "python",
   "name": "python3"
  },
  "language_info": {
   "codemirror_mode": {
    "name": "ipython",
    "version": 3
   },
   "file_extension": ".py",
   "mimetype": "text/x-python",
   "name": "python",
   "nbconvert_exporter": "python",
   "pygments_lexer": "ipython3",
   "version": "3.10.6"
  },
  "orig_nbformat": 4,
  "vscode": {
   "interpreter": {
    "hash": "51d0634a2487aff1c7d1f3b0822ad0679aa27b729b0ed920cf0f286e3bcfded9"
   }
  }
 },
 "nbformat": 4,
 "nbformat_minor": 2
}
